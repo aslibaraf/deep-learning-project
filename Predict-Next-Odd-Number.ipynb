{
 "cells": [
  {
   "cell_type": "markdown",
   "metadata": {},
   "source": [
    "## Introduction"
   ]
  },
  {
   "cell_type": "markdown",
   "metadata": {},
   "source": [
    "In this notebook we are going to do a very trivial task of finding a next odd number given a input sequence. That is, if the input sequence is 35, 37 our model should predict 39 as output. The goal of this notebook is to observe how a neural network is learning and see why choosing a right hyperparameter matters.\n",
    "\n"
   ]
  },
  {
   "cell_type": "markdown",
   "metadata": {},
   "source": [
    "## Good model is all about good selection of features, number of layers, learning rate and other hyperparameter "
   ]
  },
  {
   "cell_type": "markdown",
   "metadata": {},
   "source": [
    "When we start designing a neural network system much of the task is to determine right amount of layers, the right amount to hyperparamters. There is a very little chance that we will get good results in our first attempt if we start to choose hyperpaters and number layers arbitarily. The best approach is to look at the literature and find out what people are doing. If it work for them, then it will work for us too.\n",
    "\n",
    "When we first attempt to solve the problem of determinig a next odd number, We started randomly with 4 layer neural network. The result was terrible. If we take a copy and pencil The task of determining a next odd number is very simple such that we don't need a very deep neural network. But simple doens't mean it is alwyas easy to implement.\n",
    "\n",
    "In this case Just a input layer and single computation layer at output is sufficient to calculate a odd number. But what will be the limit to trainset. There are infinite odd numbers both +ve and -ve. Our model will be as good as our training set is.\n",
    "\n",
    "Another problem will be what will be the length of input sequence. We can take only 1 number as input sequence, we can take 2, we can take 10. These things really matter because the goal is to reach to a certain number by multiplication and addition. The more numbers, the more complication. Another idea it give us is if we can take multiple number as input, then we can have multiple number as output, say input is 1, 3 and output will be 5 and 7 or anything like this."
   ]
  },
  {
   "cell_type": "markdown",
   "metadata": {},
   "source": [
    "## Representation of Input Sequence\n",
    "\n"
   ]
  },
  {
   "cell_type": "markdown",
   "metadata": {},
   "source": []
  }
 ],
 "metadata": {
  "kernelspec": {
   "display_name": "Python 3",
   "language": "python",
   "name": "python3"
  },
  "language_info": {
   "codemirror_mode": {
    "name": "ipython",
    "version": 3
   },
   "file_extension": ".py",
   "mimetype": "text/x-python",
   "name": "python",
   "nbconvert_exporter": "python",
   "pygments_lexer": "ipython3",
   "version": "3.12.2"
  }
 },
 "nbformat": 4,
 "nbformat_minor": 2
}
